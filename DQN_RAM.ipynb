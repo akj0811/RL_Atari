{
  "nbformat": 4,
  "nbformat_minor": 0,
  "metadata": {
    "colab": {
      "name": "DQN.ipynb",
      "provenance": [],
      "collapsed_sections": [],
      "authorship_tag": "ABX9TyMOm+P86HDrBA5JAkaCOoLR",
      "include_colab_link": true
    },
    "kernelspec": {
      "name": "python3",
      "display_name": "Python 3"
    }
  },
  "cells": [
    {
      "cell_type": "markdown",
      "metadata": {
        "id": "view-in-github",
        "colab_type": "text"
      },
      "source": [
        "<a href=\"https://colab.research.google.com/github/akj0811/RL_Atari/blob/master/DQN_RAM.ipynb\" target=\"_parent\"><img src=\"https://colab.research.google.com/assets/colab-badge.svg\" alt=\"Open In Colab\"/></a>"
      ]
    },
    {
      "cell_type": "code",
      "metadata": {
        "id": "CyUwxfv95Xsr",
        "colab_type": "code",
        "outputId": "9589b627-bbc8-4de8-a7ea-1791798bc2a5",
        "colab": {
          "base_uri": "https://localhost:8080/",
          "height": 139
        }
      },
      "source": [
        "# !apt-get install -y xvfb python-opengl > /dev/null 2>&1\n",
        "# !pip install gym pyvirtualdisplay > /dev/null 2>&1\n",
        "\n",
        "from google.colab import drive\n",
        "drive.mount('/content/drive')\n",
        "\n",
        "import gym\n",
        "import numpy as np\n",
        "import tensorflow\n",
        "import keras\n",
        "import matplotlib.pyplot as plt\n",
        "import pickle\n",
        "import random"
      ],
      "execution_count": 0,
      "outputs": [
        {
          "output_type": "stream",
          "text": [
            "Go to this URL in a browser: https://accounts.google.com/o/oauth2/auth?client_id=947318989803-6bn6qk8qdgf4n4g3pfee6491hc0brc4i.apps.googleusercontent.com&redirect_uri=urn%3aietf%3awg%3aoauth%3a2.0%3aoob&response_type=code&scope=email%20https%3a%2f%2fwww.googleapis.com%2fauth%2fdocs.test%20https%3a%2f%2fwww.googleapis.com%2fauth%2fdrive%20https%3a%2f%2fwww.googleapis.com%2fauth%2fdrive.photos.readonly%20https%3a%2f%2fwww.googleapis.com%2fauth%2fpeopleapi.readonly\n",
            "\n",
            "Enter your authorization code:\n",
            "··········\n",
            "Mounted at /content/drive\n"
          ],
          "name": "stdout"
        },
        {
          "output_type": "stream",
          "text": [
            "Using TensorFlow backend.\n"
          ],
          "name": "stderr"
        }
      ]
    },
    {
      "cell_type": "code",
      "metadata": {
        "id": "RX0lKOT39AcU",
        "colab_type": "code",
        "colab": {}
      },
      "source": [
        "class ReplayMemory:\n",
        "    def __init__(self, max_size):\n",
        "        self.buffer = [None] * max_size\n",
        "        self.max_size = max_size\n",
        "        self.index = 0\n",
        "        self.size = 0\n",
        "\n",
        "    def append(self, obj):\n",
        "        self.buffer[self.index] = obj\n",
        "        self.size = min(self.size + 1, self.max_size)\n",
        "        self.index = (self.index + 1) % self.max_size\n",
        "\n",
        "    def sample(self, batch_size):\n",
        "        indices = random.sample(range(self.size), batch_size)\n",
        "        return [self.buffer[index] for index in indices]"
      ],
      "execution_count": 0,
      "outputs": []
    },
    {
      "cell_type": "code",
      "metadata": {
        "id": "fYuIWy69Alyk",
        "colab_type": "code",
        "colab": {}
      },
      "source": [
        "class Model:\n",
        "    def __init__(self, frame_size, num_actions):\n",
        "        self.model = keras.Sequential()\n",
        "        self.model.add(keras.layers.Dense(128, activation = 'relu', input_shape = (frame_size*128, )))\n",
        "        self.model.add(keras.layers.Dense(60, activation = 'relu'))\n",
        "        self.model.add(keras.layers.Dense(num_actions))\n",
        "        self.model.compile(optimizer = 'adam', loss = 'mse', metrics = ['accuracy'])\n",
        "  "
      ],
      "execution_count": 0,
      "outputs": []
    },
    {
      "cell_type": "code",
      "metadata": {
        "id": "NKw3gyGK7H-B",
        "colab_type": "code",
        "colab": {}
      },
      "source": [
        "class Agent:\n",
        "    def __init__(self, agent_params):\n",
        "        self.discount = agent_params['discount']\n",
        "        self.epsilon = agent_params['epsilon']\n",
        "        self.num_actions = agent_params['num_actions']\n",
        "        self.exp_size = agent_params['exp_size']\n",
        "        self.frame_size = agent_params['frame_size']\n",
        "        self.merge = agent_params['merge_threshold']\n",
        "        self.batch_size = agent_params['batch_size']\n",
        "        self.last_action = None\n",
        "        self.last_state = None\n",
        "        self.exp = ReplayMemory(self.exp_size)\n",
        "        self.frames = np.zeros((1, self.frame_size*128))\n",
        "        self.target_model = Model(self.frame_size, self.num_actions)\n",
        "        self.value_model = Model(self.frame_size, self.num_actions)\n",
        "        self.num_updates = 0\n",
        "        self.num_steps = 0\n",
        "        self.num_games = 0\n",
        "        self.num_merge = 0\n",
        "\n",
        "    def phi(self, state):\n",
        "        new = self.frames[:, 128:].copy()\n",
        "        new = np.concatenate([new, state/255.0], axis = -1)\n",
        "        self.frames = new.copy()\n",
        "        return self.frames\n",
        "\n",
        "    def run(self):\n",
        "        updates = min(self.batch_size, self.exp.size)\n",
        "        self.num_updates += updates\n",
        "        batch = self.exp.sample(updates)\n",
        "\n",
        "        input = [last_state for last_state, last_action, reward, state, terminal in batch]\n",
        "        inp = [state for last_state, last_action, reward, state, terminal in batch]\n",
        "        x_train = np.concatenate(input, axis = 0)\n",
        "        x_target = np.concatenate(inp, axis = 0)\n",
        "        y_train = self.value_model.model.predict(x_train)\n",
        "        y_target = self.target_model.model.predict(x_target)\n",
        "\n",
        "        for count, memory in enumerate(batch):\n",
        "            last_state, last_action, reward, state, terminal = memory\n",
        "            y_train[count][last_action] = reward\n",
        "            if terminal == 0:\n",
        "                y_train[count][last_action] += self.discount*np.amax(y_target[count])\n",
        "\n",
        "        self.value_model.model.fit(x_train, y_train, verbose = 0, epochs = 1)\n",
        "\n",
        "        if self.num_updates >= self.merge:\n",
        "            self.merge_model()\n",
        "\n",
        "    def merge_model(self):\n",
        "        self.target_model.model.set_weights(self.value_model.model.get_weights())\n",
        "        self.num_merge += 1\n",
        "        self.num_updates = 0\n",
        "\n",
        "    def epsilon_decay(self):\n",
        "        if self.epsilon > 0.1:\n",
        "            self.epsilon -= 0.9/1000000\n",
        "\n",
        "    def choose_action(self, state):\n",
        "        if np.random.random() < self.epsilon:\n",
        "            action = np.random.choice(self.num_actions)\n",
        "        else:\n",
        "            action = np.argmax(self.value_model.model.predict(state)[0])\n",
        "    \n",
        "        self.num_steps += 1\n",
        "        self.epsilon_decay()\n",
        "        return action\n",
        "\n",
        "    def agent_start(self, env_state):\n",
        "        state = self.phi(env_state)\n",
        "        self.last_action = self.choose_action(state)\n",
        "        self.last_state = state\n",
        "        return self.last_action\n",
        "\n",
        "    def agent_step(self, reward, env_state):\n",
        "        state = self.phi(env_state)\n",
        "        memory = (self.last_state, self.last_action, reward, state, 0)\n",
        "        self.exp.append(memory)\n",
        "        self.run()\n",
        "        self.last_action = self.choose_action(state)\n",
        "        self.last_state = state\n",
        "        return self.last_action\n",
        "\n",
        "    def agent_end(self, reward):\n",
        "        memory = (self.last_state, self.last_action, reward, np.zeros((1, 512)), 1)\n",
        "        self.exp.append(memory)\n",
        "        self.run()\n",
        "        self.num_games += 1\n",
        "\n",
        "    def plot(self, states):\n",
        "        y = np.mean(np.max(self.value_model.model.predict(states), axis = -1))\n",
        "        return y\n",
        "    "
      ],
      "execution_count": 0,
      "outputs": []
    },
    {
      "cell_type": "code",
      "metadata": {
        "id": "6tkITD-4AJ75",
        "colab_type": "code",
        "colab": {}
      },
      "source": [
        "agent_params = {\n",
        "    'discount' :0.99,\n",
        "    'epsilon' : 1.0,\n",
        "    'num_actions' : 4,\n",
        "    'exp_size': 200000,\n",
        "    'frame_size' : 4,\n",
        "    'merge_threshold' : 100000,\n",
        "    'batch_size' : 32,\n",
        "}\n",
        "agent = Agent(agent_params)\n",
        "episodes = []\n",
        "q_value = []\n",
        "avg_reward = []"
      ],
      "execution_count": 0,
      "outputs": []
    },
    {
      "cell_type": "code",
      "metadata": {
        "id": "KlJ647mKAYbV",
        "colab_type": "code",
        "colab": {}
      },
      "source": [
        "env = gym.make('Breakout-ram-v0')"
      ],
      "execution_count": 0,
      "outputs": []
    },
    {
      "cell_type": "code",
      "metadata": {
        "id": "2jmlOB1lrg60",
        "colab_type": "code",
        "colab": {}
      },
      "source": [
        "indices = np.random.choice(agent.exp.size, 10000)\n",
        "test_states = np.zeros((10000, 512))\n",
        "for count, index in enumerate(indices):\n",
        "    test_states[count, :] = agent.exp.buffer[index][0]"
      ],
      "execution_count": 0,
      "outputs": []
    },
    {
      "cell_type": "code",
      "metadata": {
        "id": "NcM_jNU3JLR9",
        "colab_type": "code",
        "colab": {}
      },
      "source": [
        "def train(agent, env):\n",
        "  \n",
        "    num_games = 5000\n",
        "    total = 0\n",
        "    sum = 0\n",
        "    for _ in range(1, num_games+1):\n",
        "        action = agent.agent_start(env.reset().reshape((1, 128)))\n",
        "        observations, reward, done, info = env.step([action])\n",
        "        total += reward\n",
        "        sum += reward\n",
        "\n",
        "        while not done:\n",
        "            observations, reward, done, info = env.step([agent.agent_step(reward, observations.reshape((1, 128)))])\n",
        "            total += reward\n",
        "            sum += reward\n",
        "\n",
        "        agent.agent_end(reward)\n",
        "\n",
        "        if agent.num_games % 20 == 0:\n",
        "            episodes.append(agent.num_games)\n",
        "            q_value.append(agent.plot(test_states))\n",
        "            avg_reward.append(total/20)\n",
        "            total = 0\n",
        "\n",
        "        if agent.num_games % 100 == 0:\n",
        "            print('Games = {}, Steps = {}, Reward = {}'.format(_, agent.num_steps, sum/100))\n",
        "            sum = 0\n",
        "\n",
        "        if agent.num_games % 400 == 0:\n",
        "            with open('/content/drive/My Drive/DQN/episodes0.pkl', 'wb') as f:\n",
        "                pickle.dump(episodes, f)\n",
        "            with open('/content/drive/My Drive/DQN/q_value0.pkl', 'wb') as f:\n",
        "                pickle.dump(q_value, f)\n",
        "            with open('/content/drive/My Drive/DQN/avg_reward0.pkl', 'wb') as f:\n",
        "                pickle.dump(avg_reward, f)\n",
        "            with open('/content/drive/My Drive/DQN/test_states0.pkl', 'wb') as f:\n",
        "                pickle.dump(test_states, f)\n",
        "            with open('/content/drive/My Drive/DQN/agent0.pkl', 'wb') as f:\n",
        "                pickle.dump(agent, f)\n",
        "        elif agent.num_games % 200 == 0:\n",
        "            with open('/content/drive/My Drive/DQN/episodes1.pkl', 'wb') as f:\n",
        "                pickle.dump(episodes, f)\n",
        "            with open('/content/drive/My Drive/DQN/q_value1.pkl', 'wb') as f:\n",
        "                pickle.dump(q_value, f)\n",
        "            with open('/content/drive/My Drive/DQN/avg_reward1.pkl', 'wb') as f:\n",
        "                pickle.dump(avg_reward, f)\n",
        "            with open('/content/drive/My Drive/DQN/test_states1.pkl', 'wb') as f:\n",
        "                pickle.dump(test_states, f)\n",
        "            with open('/content/drive/My Drive/DQN/agent1.pkl', 'wb') as f:\n",
        "                pickle.dump(agent, f)\n",
        "\n",
        "    plt.plot(episodes, q_value)\n",
        "    plt.plot(episodes, avg_reward)\n",
        "    plt.show()"
      ],
      "execution_count": 0,
      "outputs": []
    },
    {
      "cell_type": "code",
      "metadata": {
        "id": "BAHY6h7EPMoi",
        "colab_type": "code",
        "outputId": "9b5cd076-516a-4fa0-f7ed-ddf921cef03e",
        "colab": {
          "base_uri": "https://localhost:8080/",
          "height": 119
        }
      },
      "source": [
        "train(agent, env)"
      ],
      "execution_count": 0,
      "outputs": [
        {
          "output_type": "stream",
          "text": [
            "Games = 100, Steps = 1994838, Reward = 3.04\n",
            "Games = 200, Steps = 2031246, Reward = 2.81\n",
            "Games = 300, Steps = 2067292, Reward = 2.21\n",
            "Games = 400, Steps = 2103371, Reward = 2.59\n",
            "Games = 500, Steps = 2140660, Reward = 2.82\n",
            "Games = 600, Steps = 2175408, Reward = 2.62\n"
          ],
          "name": "stdout"
        }
      ]
    },
    {
      "cell_type": "code",
      "metadata": {
        "id": "Dhon0iOwEaNm",
        "colab_type": "code",
        "colab": {}
      },
      "source": [
        "with open('/content/drive/My Drive/DQN/agent1.pkl', 'rb') as f:\n",
        "    agent = pickle.load(f)\n",
        "with open('/content/drive/My Drive/DQN/episodes1.pkl', 'rb') as f:\n",
        "    episodes = pickle.load(f)\n",
        "with open('/content/drive/My Drive/DQN/q_value1.pkl', 'rb') as f:\n",
        "    q_value = pickle.load(f)\n",
        "with open('/content/drive/My Drive/DQN/avg_reward1.pkl', 'rb') as f:\n",
        "    avg_reward = pickle.load(f)\n",
        "with open('/content/drive/My Drive/DQN/test_states1.pkl', 'rb') as f:\n",
        "    test_states = pickle.load(f)"
      ],
      "execution_count": 0,
      "outputs": []
    },
    {
      "cell_type": "code",
      "metadata": {
        "id": "44SAmLd0zJ11",
        "colab_type": "code",
        "colab": {
          "base_uri": "https://localhost:8080/",
          "height": 265
        },
        "outputId": "99c0b4a8-62f0-4e66-9f12-e5797e4da478"
      },
      "source": [
        "plt.plot(episodes, q_value)\n",
        "plt.plot(episodes, avg_reward)\n",
        "plt.show()"
      ],
      "execution_count": 27,
      "outputs": [
        {
          "output_type": "display_data",
          "data": {
            "image/png": "[encoded data removed]",
            "text/plain": [
              "<Figure size 432x288 with 1 Axes>"
            ]
          },
          "metadata": {
            "tags": [],
            "needs_background": "light"
          }
        }
      ]
    },
    {
      "cell_type": "code",
      "metadata": {
        "id": "0MTkMJNSYb2w",
        "colab_type": "code",
        "colab": {
          "base_uri": "https://localhost:8080/",
          "height": 34
        },
        "outputId": "c6dc1e1d-ddca-4f70-a4a1-d5f841de3de3"
      },
      "source": [
        "print(agent.num_games)"
      ],
      "execution_count": 25,
      "outputs": [
        {
          "output_type": "stream",
          "text": [
            "6200\n"
          ],
          "name": "stdout"
        }
      ]
    },
    {
      "cell_type": "code",
      "metadata": {
        "id": "BdhZfyRyF9lU",
        "colab_type": "code",
        "colab": {}
      },
      "source": [
        ""
      ],
      "execution_count": 0,
      "outputs": []
    }
  ]
}