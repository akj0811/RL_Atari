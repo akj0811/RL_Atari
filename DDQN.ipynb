{
  "nbformat": 4,
  "nbformat_minor": 0,
  "metadata": {
    "colab": {
      "name": "DDQN.ipynb",
      "provenance": [],
      "collapsed_sections": [],
      "mount_file_id": "1m4NtzLALCAwK8O-CgagE5TrOAEHkkBfp",
      "authorship_tag": "ABX9TyPcj40MU+9YOOY7+6WAko7V"
    },
    "kernelspec": {
      "name": "python3",
      "display_name": "Python 3"
    }
  },
  "cells": [
    {
      "cell_type": "code",
      "metadata": {
        "id": "MONqYIz-bvZg",
        "colab": {
          "base_uri": "https://localhost:8080/",
          "height": 34
        },
        "outputId": "6c67e266-9045-41a0-ec1e-eec7f33dcd3c"
      },
      "source": [
        "# !apt-get install -y xvfb python-opengl > /dev/null 2>&1\n",
        "# !pip install gym pyvirtualdisplay > /dev/null 2>&1\n",
        "\n",
        "# from google.colab import drive\n",
        "# drive.mount('/content/drive')\n",
        "\n",
        "import gym\n",
        "import numpy as np\n",
        "import tensorflow as tf\n",
        "import keras\n",
        "from keras.layers import Dense\n",
        "from keras import Input\n",
        "from keras.models import Model\n",
        "import matplotlib.pyplot as plt\n",
        "import random\n",
        "import pickle\n",
        "import time\n",
        "import cv2\n",
        "from google.colab.patches import cv2_imshow"
      ],
      "execution_count": null,
      "outputs": [
        {
          "output_type": "stream",
          "text": [
            "Using TensorFlow backend.\n"
          ],
          "name": "stderr"
        }
      ]
    },
    {
      "cell_type": "code",
      "metadata": {
        "id": "sOKWt7bBewi_"
      },
      "source": [
        "class ReplayMemory:\n",
        "    def __init__(self, max_size):\n",
        "        self.buffer = [None] * max_size\n",
        "        self.max_size = max_size\n",
        "        self.index = 0\n",
        "        self.size = 0\n",
        "\n",
        "    def append(self, obj):\n",
        "        self.buffer[self.index] = obj\n",
        "        self.size = min(self.size + 1, self.max_size)\n",
        "        self.index = (self.index + 1) % self.max_size\n",
        "\n",
        "    def sample(self, batch_size):\n",
        "        indices = random.sample(range(self.size), batch_size)\n",
        "        return [self.buffer[index] for index in indices]"
      ],
      "execution_count": null,
      "outputs": []
    },
    {
      "cell_type": "code",
      "metadata": {
        "id": "_IcB-dHaeyxB"
      },
      "source": [
        "class Model:\n",
        "    def __init__(self, frame_size, num_actions):\n",
        "        self.model = keras.Sequential()\n",
        "        self.model.add(Dense(256, activation = 'relu', input_shape = (frame_size*128, )))\n",
        "        self.model.add(Dense(128, activation = 'relu'))\n",
        "        self.model.add(Dense(128, activation = 'relu'))\n",
        "        self.model.add(Dense(num_actions))\n",
        "        self.model.compile(optimizer = keras.optimizers.Adam(learning_rate = 0.00001), loss = 'mse', metrics = ['accuracy'])"
      ],
      "execution_count": null,
      "outputs": []
    },
    {
      "cell_type": "code",
      "metadata": {
        "id": "_YK1-kzeb2gK"
      },
      "source": [
        "class Agent:\n",
        "    def __init__(self, agent_params):\n",
        "        self.discount = agent_params['discount']\n",
        "        self.epsilon = agent_params['epsilon']\n",
        "        self.num_actions = agent_params['num_actions']\n",
        "        self.exp_size = agent_params['exp_size']\n",
        "        self.frame_size = agent_params['frame_size']\n",
        "        self.merge = agent_params['merge_threshold']\n",
        "        self.batch_size = agent_params['batch_size']\n",
        "        self.last_action = None\n",
        "        self.last_state = None\n",
        "        self.exp = ReplayMemory(self.exp_size)\n",
        "        self.frames = np.zeros((1, self.frame_size*128))\n",
        "        self.target_model = Model(self.frame_size, self.num_actions)\n",
        "        self.value_model = Model(self.frame_size, self.num_actions)\n",
        "        self.num_updates = 0\n",
        "        self.num_steps = 0\n",
        "        self.num_games = 0\n",
        "        self.num_merge = 0\n",
        "        self.waste = 0\n",
        "        self.lives = agent_params['lives']\n",
        "        self.target_model.model.set_weights(self.value_model.model.get_weights())\n",
        "  \n",
        "    def phi(self, state):\n",
        "        new = self.frames[:, 128:].copy()\n",
        "        new = np.concatenate([new, state/255.0], axis = -1)\n",
        "        self.frames = new.copy()\n",
        "        return self.frames\n",
        "    \n",
        "    def phi_init(self):\n",
        "        self.frames = np.zeros((1, self.frame_size*128))\n",
        "\n",
        "    def run(self):\n",
        "        updates = min(self.batch_size, self.exp.size)\n",
        "        self.num_updates += updates\n",
        "        batch = self.exp.sample(updates)\n",
        "\n",
        "        input = [x[0] for x in batch]\n",
        "        inp = [x[3] for x in batch]\n",
        "        x_train = np.concatenate(input, axis = 0)\n",
        "        y_train = self.value_model.model.predict(x_train)\n",
        "        target_action = np.argmax(y_train, axis = 1)\n",
        "        x_target = np.concatenate(inp, axis = 0)\n",
        "        y_target = self.target_model.model.predict(x_target)\n",
        "\n",
        "        for count, memory in enumerate(batch):\n",
        "            last_state, last_action, reward, state, terminal = memory\n",
        "            y_train[count][last_action] = reward + self.discount*y_target[count][target_action[count]]*(1 - terminal)\n",
        "\n",
        "        self.value_model.model.fit(x_train, y_train, verbose = 0, epochs = 1)\n",
        "\n",
        "        if self.num_steps % self.merge == 0:\n",
        "            self.merge_model()\n",
        "\n",
        "    def merge_model(self):\n",
        "        self.target_model.model.set_weights(self.value_model.model.get_weights())\n",
        "        self.num_merge += 1\n",
        "\n",
        "    def epsilon_decay(self):\n",
        "        if self.epsilon >= 0.05:\n",
        "            if self.num_steps >= 50000:\n",
        "                if self.num_steps <= 1050000:\n",
        "                    self.epsilon -= 0.9/1000000\n",
        "                elif self.num_steps <= 2050000:\n",
        "                    self.epsilon -= 0.05/1000000\n",
        "\n",
        "    def choose_action(self, state):\n",
        "        if np.random.random() < self.epsilon:\n",
        "            action = np.random.choice(self.num_actions)\n",
        "        else:\n",
        "            action = np.argmax(self.value_model.model.predict(state)[0])\n",
        "\n",
        "        self.num_steps += 1\n",
        "        self.epsilon_decay()\n",
        "        return action\n",
        "\n",
        "    def agent_start(self, env_state):\n",
        "        self.lives = 5\n",
        "        self.phi_init()\n",
        "        state = self.phi(env_state)\n",
        "        self.last_action = self.choose_action(state)\n",
        "        self.last_state = state\n",
        "        return self.last_action\n",
        "\n",
        "    def agent_step(self, reward, env_state, lives):\n",
        "        state = self.phi(env_state)\n",
        "        if self.waste:\n",
        "            self.waste = 0\n",
        "        elif self.lives > lives:\n",
        "            self.lives = lives\n",
        "            memory = (self.last_state, self.last_action, reward, state, 1)\n",
        "            self.phi_init()\n",
        "            self.exp.append(memory)\n",
        "        else:\n",
        "            memory = (self.last_state, self.last_action, reward, state, 0)\n",
        "            self.exp.append(memory)\n",
        "        self.run()\n",
        "        self.last_action = self.choose_action(state)\n",
        "        self.last_state = state\n",
        "        return self.last_action\n",
        "\n",
        "    def agent_end(self, reward):\n",
        "        memory = (self.last_state, self.last_action, reward, np.zeros((1, 512)), 1)\n",
        "        self.exp.append(memory)\n",
        "        self.run()\n",
        "        self.num_games += 1\n",
        "\n",
        "    def check(self, states):\n",
        "        y = np.mean(np.max(self.value_model.model.predict(states), axis = 1))\n",
        "        return y"
      ],
      "execution_count": null,
      "outputs": []
    },
    {
      "cell_type": "code",
      "metadata": {
        "id": "XGcgXK4fb8KP",
        "colab": {
          "base_uri": "https://localhost:8080/",
          "height": 34
        },
        "outputId": "6fb14ae1-4249-48af-8eeb-9cb6ed0daa1c"
      },
      "source": [
        "agent_params = {\n",
        "    'discount' :0.99,\n",
        "    'epsilon' :1.0,\n",
        "    'num_actions' : 4,\n",
        "    'exp_size': 600000,\n",
        "    'frame_size' : 4,\n",
        "    'merge_threshold' : 10000,\n",
        "    'batch_size' : 32,\n",
        "    'lives' : 5\n",
        "}\n",
        "agent = Agent(agent_params)\n",
        "episodes = []\n",
        "q_value = []\n",
        "avg_reward = []\n",
        "\n",
        "env = gym.make('Breakout-ramDeterministic-v4')\n",
        "print(env.action_space)"
      ],
      "execution_count": null,
      "outputs": [
        {
          "output_type": "stream",
          "text": [
            "Discrete(4)\n"
          ],
          "name": "stdout"
        }
      ]
    },
    {
      "cell_type": "code",
      "metadata": {
        "id": "yLsc8dLjcA34"
      },
      "source": [
        "indices = np.random.choice(agent.exp.size, 20000)\n",
        "test_states = np.zeros((20000, 512))\n",
        "for count, index in enumerate(indices):\n",
        "    test_states[count, :] = agent.exp.buffer[index][0]"
      ],
      "execution_count": null,
      "outputs": []
    },
    {
      "cell_type": "code",
      "metadata": {
        "id": "7cx2fAV1IbbS"
      },
      "source": [
        "def save(num_games):  \n",
        "    val = 1\n",
        "    if num_games % 400 == 0:\n",
        "        val = 0\n",
        "    data = (episodes, q_value, avg_reward, test_states)\n",
        "    with open('/content/drive/My Drive/DDQN/auxiliary' + str(val) + '.pkl', 'wb') as f:\n",
        "        pickle.dump(data, f)\n",
        "    with open('/content/drive/My Drive/DDQN/agent' + str(val) + '.pkl', 'wb') as f:\n",
        "        pickle.dump(agent, f)"
      ],
      "execution_count": null,
      "outputs": []
    },
    {
      "cell_type": "code",
      "metadata": {
        "id": "d0qzfNO5IdwF"
      },
      "source": [
        "def load(val):\n",
        "    global agent, episodes, q_value, avg_reward, test_states\n",
        "    with open('/content/drive/My Drive/DDQN/auxiliary' + str(val) + '.pkl', 'rb') as f:\n",
        "        data = pickle.load(f)\n",
        "    episodes, q_value, avg_reward, test_states = data\n",
        "    with open('/content/drive/My Drive/DDQN/agent' + str(val) + '.pkl', 'rb') as f:\n",
        "        agent = pickle.load(f)"
      ],
      "execution_count": null,
      "outputs": []
    },
    {
      "cell_type": "code",
      "metadata": {
        "id": "hVSaGkunJZHQ"
      },
      "source": [
        "def plot(num_games, total):\n",
        "    episodes.append(num_games)\n",
        "    q_value.append(agent.check(test_states))\n",
        "    avg_reward.append(total)\n",
        "    return 0"
      ],
      "execution_count": null,
      "outputs": []
    },
    {
      "cell_type": "code",
      "metadata": {
        "id": "v2JGlsnfJlLA"
      },
      "source": [
        "def record(out):\n",
        "    image = env.unwrapped._get_image()\n",
        "    image = cv2.cvtColor(image, cv2.COLOR_RGB2BGR)\n",
        "    out.write(image)\n",
        "    return out"
      ],
      "execution_count": null,
      "outputs": []
    },
    {
      "cell_type": "code",
      "metadata": {
        "id": "xuMredlHb_FP"
      },
      "source": [
        "def train(agent, env):\n",
        "    load(0)\n",
        "    num_games = 20\n",
        "    total = 0\n",
        "    sum = 0\n",
        "    for _ in range(1, num_games+1):\n",
        "        # fourcc = cv2.VideoWriter_fourcc(*'XVID')\n",
        "        # out = cv2.VideoWriter('/content/drive/My Drive/output' + str(_) + '.avi',fourcc,20, (160, 210))\n",
        "        action = agent.agent_start(env.reset().reshape((1, 128)))\n",
        "        observations, reward, done, info = env.step([action])\n",
        "        # out = record(out)\n",
        "        total += reward\n",
        "        sum += reward\n",
        "\n",
        "        while not done:\n",
        "            observations, reward, done, info = env.step([agent.agent_step(reward, observations.reshape((1, 128)), env.ale.lives())])\n",
        "            # out = record(out)\n",
        "            total += reward\n",
        "            sum += reward\n",
        "        agent.agent_end(reward)\n",
        "        print(total)\n",
        "        total = 0\n",
        "\n",
        "        if agent.num_games % 50 == 0:\n",
        "            total = plot(agent.num_games, total/50)\n",
        "            if agent.num_games % 100 == 0:\n",
        "                print('Games = {}, Steps = {}, Reward = {}'.format(_, agent.num_steps, sum/100))\n",
        "                sum = 0\n",
        "                if agent.num_games % 200 == 0:\n",
        "                    save(agent.num_games)"
      ],
      "execution_count": null,
      "outputs": []
    },
    {
      "cell_type": "code",
      "metadata": {
        "id": "W4k2svOuKrg1"
      },
      "source": [
        "def evaluate():\n",
        "    print(agent.num_games)\n",
        "    print(agent.num_steps)\n",
        "    print(agent.epsilon)\n",
        "    print(np.max(agent.value_model.model.get_weights()[0]))\n",
        "    _, ax = plt.subplots(1, 2, figsize = (10, 5))\n",
        "    ax[0].plot(episodes, q_value)\n",
        "    ax[1].plot(episodes, avg_reward)\n",
        "    plt.show()"
      ],
      "execution_count": null,
      "outputs": []
    },
    {
      "cell_type": "code",
      "metadata": {
        "id": "EK-oPiXFBqZP",
        "colab": {
          "base_uri": "https://localhost:8080/",
          "height": 388
        },
        "outputId": "ccfb284a-d360-4fd0-a509-3f5d097b6c47"
      },
      "source": [
        "load(0)\n",
        "evaluate()"
      ],
      "execution_count": null,
      "outputs": [
        {
          "output_type": "stream",
          "text": [
            "22200\n",
            "22983526\n",
            "0.04999995000814758\n",
            "2.8032796\n"
          ],
          "name": "stdout"
        },
        {
          "output_type": "display_data",
          "data": {
            "image/png": "[encoded data removed]",
            "text/plain": [
              "<Figure size 720x360 with 2 Axes>"
            ]
          },
          "metadata": {
            "tags": [],
            "needs_background": "light"
          }
        }
      ]
    },
    {
      "cell_type": "code",
      "metadata": {
        "id": "kngN5GP4kdkB"
      },
      "source": [
        "class Performer:\n",
        "    def __init__(self, performer_params):\n",
        "        self.num_actions = performer_params['num_actions']\n",
        "        self.frame_size = performer_params['frame_size']\n",
        "        self.last_action = None\n",
        "        self.frames = np.zeros((1, self.frame_size*128))\n",
        "        self.predict_model = Model(self.frame_size, self.num_actions)\n",
        "        self.num_steps = 0\n",
        "        self.lives = agent_params['lives']\n",
        "        self.epsilon = performer_params['epsilon']\n",
        "  \n",
        "    def phi(self, state):\n",
        "        new = self.frames[:, 128:].copy()\n",
        "        new = np.concatenate([new, state/255.0], axis = -1)\n",
        "        self.frames = new.copy()\n",
        "        return self.frames\n",
        "    \n",
        "    def phi_init(self):\n",
        "        self.frames = np.zeros((1, self.frame_size*128))\n",
        "\n",
        "    def choose_action(self, state):\n",
        "        if np.random.random() < self.epsilon:\n",
        "            action = np.random.choice(self.num_actions)\n",
        "        else:\n",
        "            action = np.argmax(self.predict_model.model.predict(state)[0])\n",
        "        self.num_steps += 1\n",
        "        return action\n",
        "\n",
        "    def agent_start(self, env_state):\n",
        "        self.lives = 5\n",
        "        self.phi_init()\n",
        "        state = self.phi(env_state)\n",
        "        self.last_action = self.choose_action(state)\n",
        "        return self.last_action\n",
        "\n",
        "    def agent_step(self, reward, env_state, lives):\n",
        "        state = self.phi(env_state)\n",
        "        if self.lives > lives:\n",
        "            self.lives = lives\n",
        "            self.phi_init()\n",
        "        self.last_action = self.choose_action(state)\n",
        "        return self.last_action"
      ],
      "execution_count": null,
      "outputs": []
    },
    {
      "cell_type": "code",
      "metadata": {
        "id": "CJIPjy8qS9_d"
      },
      "source": [
        "performer = Performer(performer_params = {'num_actions' : 4, 'frame_size'  : 4, 'lives' : 5, 'epsilon' : 0.01})"
      ],
      "execution_count": null,
      "outputs": []
    },
    {
      "cell_type": "code",
      "metadata": {
        "id": "T3F02n7VTOjh"
      },
      "source": [
        "performer.predict_model.model.set_weights(agent.target_model.model.get_weights())"
      ],
      "execution_count": null,
      "outputs": []
    },
    {
      "cell_type": "code",
      "metadata": {
        "id": "YOk3Wh5VTlbS"
      },
      "source": [
        "def perform(performer, env):\n",
        "    num_games = 20\n",
        "    for i in range(2, num_games+1):\n",
        "        fourcc = cv2.VideoWriter_fourcc(*'XVID')\n",
        "        out = cv2.VideoWriter('/content/drive/My Drive/out' + str(i) + '.avi',fourcc,20, (160, 210))  \n",
        "        total = 0\n",
        "        action = performer.agent_start(env.reset().reshape((1, 128)))\n",
        "        observations, reward, done, info = env.step([action])\n",
        "        total += reward\n",
        "        image = env.unwrapped._get_image()\n",
        "        image = cv2.cvtColor(image,cv2.COLOR_RGB2BGR)\n",
        "        out.write(image)\n",
        "\n",
        "        while not done:\n",
        "            observations, reward, done, info = env.step([performer.agent_step(reward, observations.reshape((1, 128)), env.ale.lives())])\n",
        "            total += reward\n",
        "            image = env.unwrapped._get_image()\n",
        "            image = cv2.cvtColor(image,cv2.COLOR_RGB2BGR)\n",
        "            out.write(image)\n",
        "        print('Game {}, Score = {}, Steps = {}'.format(i, total, performer.num_steps))"
      ],
      "execution_count": null,
      "outputs": []
    },
    {
      "cell_type": "code",
      "metadata": {
        "id": "p3GCQ0U4TwJj",
        "colab": {
          "base_uri": "https://localhost:8080/",
          "height": 340
        },
        "outputId": "f43f83dc-83fc-4172-ecab-bf67351ef21d"
      },
      "source": [
        "perform(performer, env)"
      ],
      "execution_count": null,
      "outputs": [
        {
          "output_type": "stream",
          "text": [
            "Game 2, Score = 48.0, Steps = 1146\n",
            "Game 3, Score = 33.0, Steps = 1896\n",
            "Game 4, Score = 65.0, Steps = 3313\n",
            "Game 5, Score = 357.0, Steps = 5334\n",
            "Game 6, Score = 55.0, Steps = 6563\n",
            "Game 7, Score = 215.0, Steps = 8109\n",
            "Game 8, Score = 361.0, Steps = 10163\n",
            "Game 9, Score = 331.0, Steps = 12088\n",
            "Game 10, Score = 331.0, Steps = 14013\n",
            "Game 11, Score = 105.0, Steps = 15612\n",
            "Game 12, Score = 120.0, Steps = 17249\n",
            "Game 13, Score = 44.0, Steps = 18295\n",
            "Game 14, Score = 339.0, Steps = 20380\n",
            "Game 15, Score = 49.0, Steps = 21569\n",
            "Game 16, Score = 83.0, Steps = 22703\n",
            "Game 17, Score = 331.0, Steps = 24628\n",
            "Game 18, Score = 362.0, Steps = 27077\n",
            "Game 19, Score = 328.0, Steps = 29490\n",
            "Game 20, Score = 60.0, Steps = 30835\n"
          ],
          "name": "stdout"
        }
      ]
    }
  ]
}